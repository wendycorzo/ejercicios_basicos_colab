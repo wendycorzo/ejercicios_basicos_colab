{
  "nbformat": 4,
  "nbformat_minor": 0,
  "metadata": {
    "colab": {
      "provenance": [],
      "authorship_tag": "ABX9TyMOdlNmHplTXfvnnNLwnS8D",
      "include_colab_link": true
    },
    "kernelspec": {
      "name": "python3",
      "display_name": "Python 3"
    },
    "language_info": {
      "name": "python"
    }
  },
  "cells": [
    {
      "cell_type": "markdown",
      "metadata": {
        "id": "view-in-github",
        "colab_type": "text"
      },
      "source": [
        "<a href=\"https://colab.research.google.com/github/wendycorzo/ejercicios_basicos_colab/blob/main/ejercicios.ipynb\" target=\"_parent\"><img src=\"https://colab.research.google.com/assets/colab-badge.svg\" alt=\"Open In Colab\"/></a>"
      ]
    },
    {
      "cell_type": "markdown",
      "source": [
        "# Ejercicios basicos python\n",
        "1. suma de dos números\n",
        "2. potencia de un número"
      ],
      "metadata": {
        "id": "yiXklU1mhvbw"
      }
    },
    {
      "cell_type": "code",
      "source": [
        "# suma de dos números enteros\n",
        "\n",
        "print(\"------------------------------\")\n",
        "print(\"----SUMAS DOS ENTEROS---------\")\n",
        "print(\"------------------------------\")\n",
        "\n",
        "# input\n",
        "x = int(input(\"Digite el valr de x: \"))\n",
        "y = int(input(\"Digite el valor de y: \"))\n",
        "\n",
        "# processing\n",
        "z = x + y\n",
        "\n",
        "# output\n",
        "print(\"La suma de\",x,\"+\", y, \" es \",z)\n"
      ],
      "metadata": {
        "id": "mxbgG5loXjuE"
      },
      "execution_count": null,
      "outputs": []
    },
    {
      "cell_type": "code",
      "source": [
        "# potencia de un numero\n",
        "\n",
        "print(\"-------------------------------\")\n",
        "print(\"---------POTENCIA--------------\")\n",
        "print(\"-------------------------------\")\n",
        "\n",
        "# input\n",
        "x = int(input(\"Digite el valor de x: \"))\n",
        "y = int(input(\"Digite el valor de y: \"))\n",
        "\n",
        "# processing\n",
        "z = x**y\n",
        "\n",
        "# output\n",
        "print(x, \" elevado a la\", y, \" es \",z)"
      ],
      "metadata": {
        "id": "JCvyHKUKkz6L"
      },
      "execution_count": null,
      "outputs": []
    },
    {
      "cell_type": "markdown",
      "source": [],
      "metadata": {
        "id": "rEcTZ2uMiK_b"
      }
    }
  ]
}